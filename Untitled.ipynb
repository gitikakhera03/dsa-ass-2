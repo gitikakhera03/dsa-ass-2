{
 "cells": [
  {
   "cell_type": "code",
   "execution_count": 8,
   "id": "d57ea0a0-1d72-4807-aa2e-4072ef01ad6f",
   "metadata": {},
   "outputs": [],
   "source": [
    "#commet \n",
    "#we can comment in python using the hashtag\n",
    "#types of comments\n",
    "#single line comment\n",
    "#multiline commennt\n",
    "\n"
   ]
  },
  {
   "cell_type": "code",
   "execution_count": 10,
   "id": "8d2e8bdc-d9e2-4918-b313-c98a84a545ea",
   "metadata": {},
   "outputs": [],
   "source": [
    "#question 2\n",
    "#variable is the name of the data set in which we store our data\n",
    "#eg\n",
    "a=2"
   ]
  },
  {
   "cell_type": "code",
   "execution_count": 12,
   "id": "82bfb3ad-aed6-4871-b590-7de4accda525",
   "metadata": {},
   "outputs": [],
   "source": [
    "#question 3\n",
    "#all data types are naturally in string so we convert it in two ways one is explicitly and another one is implicitly \n",
    "#type(int(38))\n"
   ]
  },
  {
   "cell_type": "code",
   "execution_count": 15,
   "id": "a65c6b4b-f96e-4889-895f-2322a22f360d",
   "metadata": {},
   "outputs": [
    {
     "name": "stdout",
     "output_type": "stream",
     "text": [
      "[2, 3]\n"
     ]
    }
   ],
   "source": [
    "#question 5\n",
    "my_list=[1,2,3,4,5]\n",
    "sub_list=my_list[1:3:1]\n",
    "print(sub_list)"
   ]
  },
  {
   "cell_type": "code",
   "execution_count": 16,
   "id": "c220f353-7e5c-490f-97dd-493cef991118",
   "metadata": {},
   "outputs": [],
   "source": [
    "#question 6\n",
    "#in maths a+ib\n",
    "#in python \n",
    "#ax+bj"
   ]
  },
  {
   "cell_type": "code",
   "execution_count": 17,
   "id": "0d7fca94-823a-42db-bafa-3c3ca88630f0",
   "metadata": {},
   "outputs": [
    {
     "name": "stdout",
     "output_type": "stream",
     "text": [
      "25\n"
     ]
    }
   ],
   "source": [
    "#question 7\n",
    "age=25\n",
    "print(age)"
   ]
  },
  {
   "cell_type": "code",
   "execution_count": 18,
   "id": "86c1c90f-dae7-44ac-bfd9-0e39c105b0d5",
   "metadata": {},
   "outputs": [
    {
     "data": {
      "text/plain": [
       "float"
      ]
     },
     "execution_count": 18,
     "metadata": {},
     "output_type": "execute_result"
    }
   ],
   "source": [
    "#question 8\n",
    "price=9.99\n",
    "type(price)"
   ]
  },
  {
   "cell_type": "code",
   "execution_count": 21,
   "id": "36c7d8c1-6950-42b9-bfbc-480e4b4abfc2",
   "metadata": {},
   "outputs": [
    {
     "name": "stdout",
     "output_type": "stream",
     "text": [
      "gitika khera\n"
     ]
    }
   ],
   "source": [
    "#question 9\n",
    "name=(\"gitika khera\")\n",
    "print(name)"
   ]
  },
  {
   "cell_type": "code",
   "execution_count": 23,
   "id": "39b8e57a-84c6-4bde-9849-0fecdb47f601",
   "metadata": {},
   "outputs": [
    {
     "data": {
      "text/plain": [
       "'hello'"
      ]
     },
     "execution_count": 23,
     "metadata": {},
     "output_type": "execute_result"
    }
   ],
   "source": [
    "#question 10 \n",
    "string =\"hello world!\"\n",
    "string[0:5:1]"
   ]
  },
  {
   "cell_type": "code",
   "execution_count": null,
   "id": "4246040e-9efe-4d24-a7e9-291bba5cf9e0",
   "metadata": {},
   "outputs": [],
   "source": [
    "\"is_student\"=True\n",
    "print(is_student)"
   ]
  }
 ],
 "metadata": {
  "kernelspec": {
   "display_name": "Python 3 (ipykernel)",
   "language": "python",
   "name": "python3"
  },
  "language_info": {
   "codemirror_mode": {
    "name": "ipython",
    "version": 3
   },
   "file_extension": ".py",
   "mimetype": "text/x-python",
   "name": "python",
   "nbconvert_exporter": "python",
   "pygments_lexer": "ipython3",
   "version": "3.10.8"
  }
 },
 "nbformat": 4,
 "nbformat_minor": 5
}
